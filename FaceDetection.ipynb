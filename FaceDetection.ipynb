{
 "cells": [
  {
   "cell_type": "code",
   "execution_count": null,
   "id": "18bf7ac8",
   "metadata": {},
   "outputs": [],
   "source": [
    "!pip install labelme tensorflow tensorflow-gpu opencv-python matplotlib albumentations"
   ]
  },
  {
   "cell_type": "code",
   "execution_count": 1,
   "id": "1f2d4c7e",
   "metadata": {},
   "outputs": [],
   "source": [
    "import os\n",
    "import time \n",
    "import uuid\n",
    "import cv2"
   ]
  },
  {
   "cell_type": "code",
   "execution_count": null,
   "id": "907147f6",
   "metadata": {},
   "outputs": [],
   "source": [
    "IMAGES_PATH = os.path.join('data', 'images')\n",
    "number_images = 30"
   ]
  },
  {
   "cell_type": "code",
   "execution_count": null,
   "id": "0b051563",
   "metadata": {},
   "outputs": [],
   "source": [
    "cap = cv2.VideoCapture(0)\n",
    "for imgnum in range(number_images):\n",
    "    print('Collecting image {}'.format(imgnum))/\n",
    "    ret, frame = cap.read()\n",
    "    if not ret:\n",
    "        break\n",
    "    imgname = os.path.join(IMAGES_PATH, f'{str(uuid.uuid1())}.jpg')\n",
    "    cv2.imwrite(imgname, frame)\n",
    "    cv2.imshow('frame', frame)\n",
    "    time.sleep(0.5)\n",
    "    \n",
    "    if cv2.waitKey(1) & 0xFF == ord('q'):\n",
    "        break\n",
    "cap.release()\n",
    "cv2.destroyAllWindows()"
   ]
  },
  {
   "cell_type": "code",
   "execution_count": null,
   "id": "8cfedf23-2c9a-4641-a517-9d3d72805676",
   "metadata": {},
   "outputs": [],
   "source": [
    "# Have to uninstall and install tensorflow for this to work for some reason\n",
    "\n",
    "!labelme"
   ]
  },
  {
   "cell_type": "code",
   "execution_count": 2,
   "id": "ca0d7b1a-9c16-4801-8b71-af1f3bba8881",
   "metadata": {},
   "outputs": [],
   "source": [
    "import tensorflow as tf\n",
    "import json\n",
    "import numpy as np\n",
    "from matplotlib import pyplot as plt"
   ]
  },
  {
   "cell_type": "code",
   "execution_count": 3,
   "id": "9173dfb7-3e77-48b4-8993-ec9de5c0d723",
   "metadata": {},
   "outputs": [
    {
     "name": "stderr",
     "output_type": "stream",
     "text": [
      "2022-11-24 23:12:05.468567: I tensorflow/stream_executor/cuda/cuda_gpu_executor.cc:975] successful NUMA node read from SysFS had negative value (-1), but there must be at least one NUMA node, so returning NUMA node zero\n",
      "2022-11-24 23:12:05.510348: I tensorflow/stream_executor/cuda/cuda_gpu_executor.cc:975] successful NUMA node read from SysFS had negative value (-1), but there must be at least one NUMA node, so returning NUMA node zero\n",
      "2022-11-24 23:12:05.510531: I tensorflow/stream_executor/cuda/cuda_gpu_executor.cc:975] successful NUMA node read from SysFS had negative value (-1), but there must be at least one NUMA node, so returning NUMA node zero\n"
     ]
    }
   ],
   "source": [
    "# Limit GPU Memory Growth\n",
    "gpus = tf.config.experimental.list_physical_devices('GPU')\n",
    "for gpu in gpus:\n",
    "    tf.config.experimental.set_memory_growth(gpu, True)"
   ]
  },
  {
   "cell_type": "code",
   "execution_count": 15,
   "id": "ebba904a-4423-4771-9742-75d9cbcefaea",
   "metadata": {},
   "outputs": [
    {
     "data": {
      "text/plain": [
       "[PhysicalDevice(name='/physical_device:GPU:0', device_type='GPU')]"
      ]
     },
     "execution_count": 15,
     "metadata": {},
     "output_type": "execute_result"
    }
   ],
   "source": [
    "tf.config.list_physical_devices('GPU')"
   ]
  },
  {
   "cell_type": "code",
   "execution_count": null,
   "id": "c135fce9-039e-49f9-a338-52e8b71165f8",
   "metadata": {},
   "outputs": [],
   "source": [
    "images = tf.data.Dataset.list_files('data/images/*.jpg', shuffle=False)"
   ]
  },
  {
   "cell_type": "code",
   "execution_count": null,
   "id": "cc474a88-9f9e-4771-9323-ca1734f31728",
   "metadata": {},
   "outputs": [],
   "source": [
    "images.as_numpy_iterator().next()"
   ]
  },
  {
   "cell_type": "code",
   "execution_count": null,
   "id": "8611f14e-2d9b-4721-97ec-cb2237c8a9dc",
   "metadata": {},
   "outputs": [],
   "source": [
    "def load_image(x):\n",
    "    byte_img = tf.io.read_file(x)\n",
    "    img = tf.io.decode_jpeg(byte_img)\n",
    "    return img"
   ]
  },
  {
   "cell_type": "code",
   "execution_count": null,
   "id": "0b707f7c-e068-4df9-8673-aea75de43339",
   "metadata": {},
   "outputs": [],
   "source": [
    "images = images.map(load_image)"
   ]
  },
  {
   "cell_type": "code",
   "execution_count": null,
   "id": "d6197318-40b8-4dee-b93c-b15590ac5ac3",
   "metadata": {},
   "outputs": [],
   "source": [
    "images.as_numpy_iterator().next()"
   ]
  },
  {
   "cell_type": "code",
   "execution_count": null,
   "id": "1d8b075b-7dcb-46f4-9c33-1f72db549845",
   "metadata": {},
   "outputs": [],
   "source": [
    "image_generator = images.batch(4).as_numpy_iterator()"
   ]
  },
  {
   "cell_type": "code",
   "execution_count": null,
   "id": "7f88339b-0c1c-408d-b724-ed5f68950941",
   "metadata": {},
   "outputs": [],
   "source": [
    "plot_images = image_generator.next()"
   ]
  },
  {
   "cell_type": "code",
   "execution_count": null,
   "id": "d7680b7d-04df-43c0-95d4-b0245ea1ac5e",
   "metadata": {},
   "outputs": [],
   "source": [
    "fig, ax = plt.subplots(ncols=4, figsize=(20,20))\n",
    "for idx, image in enumerate(plot_images):\n",
    "    ax[idx].imshow(image)\n",
    "plt.show()"
   ]
  },
  {
   "cell_type": "code",
   "execution_count": null,
   "id": "681a6271-ea80-48c4-af2a-87198ca5e53b",
   "metadata": {},
   "outputs": [],
   "source": [
    "# Loops through folders and moves the labels into the appropiate train, test, or val folder where the image went to\n",
    "\n",
    "for folder in ['train', 'test', 'val']:\n",
    "    for file in os.listdir(os.path.join('data', folder, 'images')):\n",
    "        \n",
    "        filename = file.split('.')[0]+'.json'\n",
    "        existing_filepath = os.path.join('data', 'labels', filename)\n",
    "        if os.path.exists(existing_filepath):\n",
    "            new_filepath = os.path.join('data', folder, 'labels', filename)\n",
    "            os.replace(existing_filepath, new_filepath)"
   ]
  },
  {
   "cell_type": "code",
   "execution_count": null,
   "id": "3125ec28-13ce-4fa6-a837-7789d018c8c8",
   "metadata": {},
   "outputs": [],
   "source": [
    "import albumentations as alb"
   ]
  },
  {
   "cell_type": "code",
   "execution_count": null,
   "id": "04c612b4-22db-4735-801c-c3bff116b431",
   "metadata": {},
   "outputs": [],
   "source": [
    "# Use albumentations to apply random variations to the images essentially giving more variance and more training data.\n",
    "\n",
    "augmentor = alb.Compose([alb.RandomCrop(width=450, height=450),\n",
    "                         alb.HorizontalFlip(p=0.5),\n",
    "                         alb.RandomBrightnessContrast(p=0.2),\n",
    "                         alb.RandomGamma(p=0.2),\n",
    "                         alb.RGBShift(p=0.2),\n",
    "                         alb.VerticalFlip(p=0.2)],\n",
    "                         bbox_params=alb.BboxParams(format='albumentations',\n",
    "                                                    label_fields=['class_labels']))"
   ]
  },
  {
   "cell_type": "markdown",
   "id": "020ee2db-e308-45a9-a8da-696c491ff3a4",
   "metadata": {},
   "source": [
    "Load a Test Image and Annotation with OpenCV and JSON"
   ]
  },
  {
   "cell_type": "code",
   "execution_count": null,
   "id": "64f012c4-272f-413f-b81e-d32875dc830b",
   "metadata": {},
   "outputs": [],
   "source": [
    "img = cv2.imread(os.path.join('data', 'train', 'images', '037d9c9e-6bc6-11ed-8256-bfb0481f4d43.jpg'))"
   ]
  },
  {
   "cell_type": "code",
   "execution_count": null,
   "id": "691b0dc5-81c3-47e8-8b7c-a14f44d9bdf2",
   "metadata": {},
   "outputs": [],
   "source": [
    "# Make sure image is loaded\n",
    "img"
   ]
  },
  {
   "cell_type": "code",
   "execution_count": null,
   "id": "cf5c333b-603c-45ee-85ca-2f516b03263b",
   "metadata": {},
   "outputs": [],
   "source": [
    "with open(os.path.join('data', 'train', 'labels', '037d9c9e-6bc6-11ed-8256-bfb0481f4d43.json'), 'r') as f:\n",
    "    label = json.load(f)"
   ]
  },
  {
   "cell_type": "code",
   "execution_count": null,
   "id": "d70801cd-7347-44e5-b3e4-fb15ca22c59a",
   "metadata": {},
   "outputs": [],
   "source": [
    "# Extract Coordinates and Rescale to Match Image Resolution\n",
    "\n",
    "coords = [0,0,0,0]\n",
    "coords[0] = label['shapes'][0]['points'][0][0]\n",
    "coords[1] = label['shapes'][0]['points'][0][1]\n",
    "coords[2] = label['shapes'][0]['points'][1][0]\n",
    "coords[3] = label['shapes'][0]['points'][1][1]"
   ]
  },
  {
   "cell_type": "code",
   "execution_count": null,
   "id": "4b49cb60-5cc2-41bf-b2d6-16bb88f68e54",
   "metadata": {},
   "outputs": [],
   "source": [
    "coords"
   ]
  },
  {
   "cell_type": "code",
   "execution_count": null,
   "id": "2ece93ab-c14c-4f7c-9a4a-6e671fd575d1",
   "metadata": {},
   "outputs": [],
   "source": [
    "coords = list(np.divide(coords, [640,480,640,480]))"
   ]
  },
  {
   "cell_type": "code",
   "execution_count": null,
   "id": "b97ec832-8782-4dbb-8263-c386a4fdfc6e",
   "metadata": {},
   "outputs": [],
   "source": [
    "coords"
   ]
  },
  {
   "cell_type": "code",
   "execution_count": null,
   "id": "9cc29fa5-0be7-477d-84ef-ee43caaddbe9",
   "metadata": {},
   "outputs": [],
   "source": [
    "# Apply Augmentations and View Results\n",
    "augmented = augmentor(image=img, bboxes=[coords], class_labels=['face'])"
   ]
  },
  {
   "cell_type": "code",
   "execution_count": null,
   "id": "59dd5dd7-d6db-48c1-b864-0d4c196eab07",
   "metadata": {},
   "outputs": [],
   "source": [
    "augmented['bboxes'][0][2:]"
   ]
  },
  {
   "cell_type": "code",
   "execution_count": null,
   "id": "5708b3fd-668d-454e-aee2-eb691338f67a",
   "metadata": {},
   "outputs": [],
   "source": [
    "cv2.rectangle(augmented['image'],\n",
    "              tuple(np.multiply(augmented['bboxes'][0][:2], [450,450]).astype(int)),\n",
    "              tuple(np.multiply(augmented['bboxes'][0][2:], [450,450]).astype(int)),\n",
    "              (255,0,0),2)\n",
    "\n",
    "plt.imshow(augmented['image'])"
   ]
  },
  {
   "cell_type": "markdown",
   "id": "2ee37f2f-a266-4e5b-a167-4ddde5ab500b",
   "metadata": {},
   "source": [
    "Build and Run Augmentation Pipeline"
   ]
  },
  {
   "cell_type": "code",
   "execution_count": null,
   "id": "a38dffea-f5f7-4f9e-a03f-bdf1b7a93f9f",
   "metadata": {},
   "outputs": [],
   "source": [
    "for partition in ['train', 'test', 'val']: #Loop through folders \n",
    "    for image in os.listdir(os.path.join('data', partition, 'images')):\n",
    "        img = cv2.imread(os.path.join('data', partition, 'images', image))\n",
    "        \n",
    "        coords = [0,0,0.00001, 0.00001] # If annotation doesn't exist, assign these coords as default\n",
    "        label_path = os.path.join('data', partition, 'labels', f'{image.split(\".\")[0]}.json')\n",
    "        if os.path.exists(label_path):  # Check wether or not annotation exists\n",
    "            with open(label_path, 'r') as f:\n",
    "                label = json.load(f)\n",
    "            \n",
    "            coords[0] = label['shapes'][0]['points'][0][0]\n",
    "            coords[1] = label['shapes'][0]['points'][0][1]\n",
    "            coords[2] = label['shapes'][0]['points'][1][0]\n",
    "            coords[3] = label['shapes'][0]['points'][1][1]\n",
    "            coords = list(np.divide(coords, [640,480,640,480]))\n",
    "        \n",
    "        try:\n",
    "            for x in range(60):  # Create 60 augmented images per base image\n",
    "                augmented = augmentor(image=img, bboxes=[coords], class_labels=['face'])\n",
    "                cv2.imwrite(os.path.join('aug_data', partition, 'images', f'{image.split(\".\")[0]}.{x}.jpg'), augmented['image'])\n",
    "                \n",
    "                annotation = {}\n",
    "                annotation['image'] = image\n",
    "                \n",
    "                if os.path.exists(label_path):\n",
    "                    if len(augmented['bboxes']) == 0:\n",
    "                        annotation['bbox'] = [0,0,0,0]\n",
    "                        annotation['class'] = 0\n",
    "                    else:\n",
    "                        annotation['bbox'] = augmented['bboxes'][0]\n",
    "                        annotation['class'] = 1\n",
    "                else:\n",
    "                    annotation['bbox'] = [0,0,0,0]\n",
    "                    annotation['class'] = 0\n",
    "                    \n",
    "                    \n",
    "                with open(os.path.join('aug_data', partition, 'labels', f'{image.split(\".\")[0]}.{x}.json'), 'w') as f:\n",
    "                    json.dump(annotation, f)\n",
    "                    \n",
    "        except Exception as e:\n",
    "                print(e)"
   ]
  },
  {
   "cell_type": "markdown",
   "id": "37d6e922-43e3-439a-8789-eedba27ca223",
   "metadata": {},
   "source": [
    "Load Augmented Images to Tensorflow Dataset"
   ]
  },
  {
   "cell_type": "code",
   "execution_count": null,
   "id": "54f1bce3-fd00-4760-81c2-07db53333a08",
   "metadata": {},
   "outputs": [],
   "source": [
    "train_images = tf.data.Dataset.list_files('aug_data/train/images/*.jpg', shuffle=False)\n",
    "train_images = train_images.map(load_image)\n",
    "train_images = train_images.map(lambda x: tf.image.resize(x, (120,120)))\n",
    "train_images = train_images.map(lambda x: x/255)"
   ]
  },
  {
   "cell_type": "code",
   "execution_count": null,
   "id": "0612fa64-ded6-49c1-952f-08c0d47d4ed3",
   "metadata": {},
   "outputs": [],
   "source": [
    "test_images = tf.data.Dataset.list_files('aug_data/test/images/*.jpg', shuffle=False)\n",
    "test_images = test_images.map(load_image)\n",
    "test_images = test_images.map(lambda x: tf.image.resize(x, (120,120)))\n",
    "test_images = test_images.map(lambda x: x/255)"
   ]
  },
  {
   "cell_type": "code",
   "execution_count": null,
   "id": "18598689-5090-4b2a-82df-b0b4f5055024",
   "metadata": {},
   "outputs": [],
   "source": [
    "val_images = tf.data.Dataset.list_files('aug_data/val/images/*.jpg', shuffle=False)\n",
    "val_images = val_images.map(load_image)\n",
    "val_images = val_images.map(lambda x: tf.image.resize(x, (120,120)))\n",
    "val_images = val_images.map(lambda x: x/255)"
   ]
  },
  {
   "cell_type": "markdown",
   "id": "a8e30448-6a40-4492-9199-d5afbb14bd67",
   "metadata": {},
   "source": [
    "Prepare Labels"
   ]
  },
  {
   "cell_type": "code",
   "execution_count": null,
   "id": "26325b9b-5359-4b1f-9966-3bbbc2399a40",
   "metadata": {},
   "outputs": [],
   "source": [
    "def load_labels(label_path):\n",
    "    with open(label_path.numpy(), 'r', encoding = \"utf-8\") as f:\n",
    "        label = json.load(f)\n",
    "        \n",
    "    return [label['class']], label['bbox']"
   ]
  },
  {
   "cell_type": "markdown",
   "id": "cb01edbd-e30a-46be-9834-da1f3ce0daa5",
   "metadata": {},
   "source": [
    "Load Labels to Tensorflow Dataset"
   ]
  },
  {
   "cell_type": "code",
   "execution_count": null,
   "id": "87c4153c-6d52-436c-85d4-e49c566a5ea6",
   "metadata": {},
   "outputs": [],
   "source": [
    "train_labels = tf.data.Dataset.list_files('aug_data/train/labels/*.json', shuffle=False)\n",
    "train_labels = train_labels.map(lambda x: tf.py_function(load_labels, [x], [tf.uint8, tf.float16]))"
   ]
  },
  {
   "cell_type": "code",
   "execution_count": null,
   "id": "4de7f0dd-e56e-4f93-bd28-7af62665a41b",
   "metadata": {},
   "outputs": [],
   "source": [
    "test_labels = tf.data.Dataset.list_files('aug_data/test/labels/*.json', shuffle=False)\n",
    "test_labels = test_labels.map(lambda x: tf.py_function(load_labels, [x], [tf.uint8, tf.float16]))"
   ]
  },
  {
   "cell_type": "code",
   "execution_count": null,
   "id": "77eddc0d-9938-4230-973d-34a1718934b8",
   "metadata": {},
   "outputs": [],
   "source": [
    "val_labels = tf.data.Dataset.list_files('aug_data/val/labels/*.json', shuffle=False)\n",
    "val_labels = val_labels.map(lambda x: tf.py_function(load_labels, [x], [tf.uint8, tf.float16]))"
   ]
  },
  {
   "cell_type": "markdown",
   "id": "2d04f9a7-dfc6-429f-8590-89bf5a40b4bd",
   "metadata": {},
   "source": [
    "Combine Label and Image Samples"
   ]
  },
  {
   "cell_type": "code",
   "execution_count": null,
   "id": "be202fbf-08b8-48f4-9530-9196ad76b1f7",
   "metadata": {},
   "outputs": [],
   "source": [
    "len(train_images), len(train_labels), len(test_images), len(test_labels), len(val_images), len(val_labels)"
   ]
  },
  {
   "cell_type": "code",
   "execution_count": null,
   "id": "4d9ea96f-caff-4461-ae98-cd29c3b86c79",
   "metadata": {},
   "outputs": [],
   "source": [
    "train = tf.data.Dataset.zip((train_images, train_labels))  # Combine the images and labels\n",
    "train = train.shuffle(5000)\n",
    "train = train.batch(8)\n",
    "train = train.prefetch(4)"
   ]
  },
  {
   "cell_type": "code",
   "execution_count": null,
   "id": "3a2d28ee-9051-4c9f-9624-c5ccb6191bae",
   "metadata": {},
   "outputs": [],
   "source": [
    "test = tf.data.Dataset.zip((test_images, test_labels))\n",
    "test = test.shuffle(5000)\n",
    "test = test.batch(8)\n",
    "test = test.prefetch(4)"
   ]
  },
  {
   "cell_type": "code",
   "execution_count": null,
   "id": "7883744a-171d-4e95-a59e-b22c1b535268",
   "metadata": {},
   "outputs": [],
   "source": [
    "val = tf.data.Dataset.zip((val_images, val_labels))\n",
    "val = val.shuffle(5000)\n",
    "val = val.batch(8)\n",
    "val = val.prefetch(4)"
   ]
  },
  {
   "cell_type": "code",
   "execution_count": null,
   "id": "c4f4feae-c33e-4084-acfa-66983da482a2",
   "metadata": {},
   "outputs": [],
   "source": [
    "train.as_numpy_iterator().next()[0].shape"
   ]
  },
  {
   "cell_type": "code",
   "execution_count": null,
   "id": "47f8ebe4-1989-4582-93d6-675bc1bc7db7",
   "metadata": {},
   "outputs": [],
   "source": [
    "data_samples = train.as_numpy_iterator()"
   ]
  },
  {
   "cell_type": "code",
   "execution_count": null,
   "id": "2f35c03e-582c-4213-a1c4-b2533acadb7b",
   "metadata": {},
   "outputs": [],
   "source": [
    "res = data_samples.next()"
   ]
  },
  {
   "cell_type": "code",
   "execution_count": null,
   "id": "c2078a1f-b8d6-499f-8cc5-a335a000579d",
   "metadata": {},
   "outputs": [],
   "source": [
    "fig, ax = plt.subplots(ncols=4, figsize=(20,20))\n",
    "for idx in range(4):\n",
    "    sample_image = res[0][idx]\n",
    "    sample_coords = res[1][1][idx]\n",
    "    \n",
    "    cv2.rectangle(sample_image,\n",
    "                  tuple(np.multiply(sample_coords[:2], [120,120]).astype(int)),\n",
    "                  tuple(np.multiply(sample_coords[2:], [120,120]).astype(int)),\n",
    "                        (255,0,0), 2)\n",
    "\n",
    "    ax[idx].imshow(sample_image)"
   ]
  },
  {
   "cell_type": "markdown",
   "id": "1494d41c-d0e1-4030-8823-d51e02860f8a",
   "metadata": {},
   "source": [
    "Build Deep Learning using the Functional API"
   ]
  },
  {
   "cell_type": "code",
   "execution_count": null,
   "id": "1f855420-fc94-43ca-b3d8-37e05b7fb576",
   "metadata": {},
   "outputs": [],
   "source": [
    "from tensorflow.keras.models import Model\n",
    "from tensorflow.keras.layers import Input, Conv2D, Dense, GlobalMaxPooling2D\n",
    "from tensorflow.keras.applications import VGG16"
   ]
  },
  {
   "cell_type": "code",
   "execution_count": null,
   "id": "a29e47d2-9884-4e5e-b7fe-3d20a6193193",
   "metadata": {},
   "outputs": [],
   "source": [
    "# Download VGG16\n",
    "vgg = VGG16(include_top=False)"
   ]
  },
  {
   "cell_type": "code",
   "execution_count": null,
   "id": "49fa882a-cc65-465e-8592-5e83838b4bb0",
   "metadata": {},
   "outputs": [],
   "source": [
    "vgg.summary()"
   ]
  },
  {
   "cell_type": "code",
   "execution_count": null,
   "id": "4e51454b-d83c-432f-96c6-bf84e2353689",
   "metadata": {},
   "outputs": [],
   "source": [
    "# Build Instance of Network\n",
    "\n",
    "def build_model():\n",
    "    input_layer = Input(shape=(120,120,3))\n",
    "    \n",
    "    vgg = VGG16(include_top=False)(input_layer)\n",
    "    \n",
    "    # Classification model\n",
    "    f1 = GlobalMaxPooling2D()(vgg)\n",
    "    class1 = Dense(2048, activation='relu')(f1)\n",
    "    class2 = Dense(1, activation='sigmoid')(class1)  # Layer has 1 output since 1 classification\n",
    "    \n",
    "    # Bounding box model\n",
    "    f2 = GlobalMaxPooling2D()(vgg)\n",
    "    regress1 = Dense(2048, activation='relu')(f2)\n",
    "    regress2 = Dense(4, activation='sigmoid')(regress1)  # Layer has 4 outputs since labels has 4 outputs\n",
    "    \n",
    "    facetracker = Model(inputs=input_layer, outputs=[class2, regress2])\n",
    "    return facetracker"
   ]
  },
  {
   "cell_type": "code",
   "execution_count": null,
   "id": "a13953d6-babf-4fd4-8aec-da324c6db75b",
   "metadata": {},
   "outputs": [],
   "source": [
    "# Test out Neural Network\n",
    "facetracker = build_model()"
   ]
  },
  {
   "cell_type": "code",
   "execution_count": null,
   "id": "07c4f44a-b075-435c-8971-b862fb0ab2c9",
   "metadata": {
    "tags": []
   },
   "outputs": [],
   "source": [
    "facetracker.summary()"
   ]
  },
  {
   "cell_type": "code",
   "execution_count": null,
   "id": "fa3a257e-cbcc-449a-bea6-3de467619e07",
   "metadata": {},
   "outputs": [],
   "source": [
    "X, y = train.as_numpy_iterator().next()"
   ]
  },
  {
   "cell_type": "code",
   "execution_count": null,
   "id": "454bc7b9-c57d-4a51-a3dc-b5842811e862",
   "metadata": {},
   "outputs": [],
   "source": [
    "X.shape"
   ]
  },
  {
   "cell_type": "code",
   "execution_count": null,
   "id": "6d34e805-2e86-494b-9cf6-80ce28173153",
   "metadata": {},
   "outputs": [],
   "source": [
    "classes, coords = facetracker.predict(X)"
   ]
  },
  {
   "cell_type": "code",
   "execution_count": null,
   "id": "d459b59c-29e6-4803-aef4-3452948f484f",
   "metadata": {},
   "outputs": [],
   "source": [
    "classes, coords"
   ]
  },
  {
   "cell_type": "markdown",
   "id": "30ab5202-7c95-483f-9312-ffef52fdcffa",
   "metadata": {},
   "source": [
    "Define Losses and Optimizers"
   ]
  },
  {
   "cell_type": "code",
   "execution_count": null,
   "id": "79af2b7a-cff4-4e1f-803d-ef78092b20b5",
   "metadata": {},
   "outputs": [],
   "source": [
    "# Define Optimizer and LR\n",
    "batches_per_epoch = len(train)\n",
    "lr_decay = (1/0.75 - 1)/batches_per_epoch"
   ]
  },
  {
   "cell_type": "code",
   "execution_count": null,
   "id": "b9836ac8-9e8c-458e-9aea-f914b8d4277b",
   "metadata": {},
   "outputs": [],
   "source": [
    "opt = tf.keras.optimizers.Adam(learning_rate=0.0001, decay=lr_decay)"
   ]
  },
  {
   "cell_type": "code",
   "execution_count": null,
   "id": "e7824dfa-b268-4b67-9a4d-3ad44b174e1d",
   "metadata": {},
   "outputs": [],
   "source": [
    "# Create Localization Loss and Classification Loss\n",
    "\n",
    "def localization_loss(y_true, yhat):\n",
    "    delta_coord = tf.reduce_sum(tf.square(y_true[:,:2] - yhat[:,:2]))  # Get distance between actual and predicted coordinate\n",
    "    \n",
    "    h_true = y_true[:,3] - y_true[:,1]  # Calculate actual height of box\n",
    "    w_true = y_true[:,2] - y_true[:,0]  # Calculate actual width of box\n",
    "    \n",
    "    h_pred = yhat[:,3] - yhat[:,1]  # Calculate predicted height of box\n",
    "    w_pred = yhat[:,2] - yhat[:,0]  # Calculate predicted width of box\n",
    "    \n",
    "    delta_size = tf.reduce_sum(tf.square(w_true - w_pred) + tf.square(h_true - h_pred))  \n",
    "    \n",
    "    return delta_coord + delta_size"
   ]
  },
  {
   "cell_type": "code",
   "execution_count": null,
   "id": "aacb6f15-d315-496c-b2ae-0dfc1158a231",
   "metadata": {},
   "outputs": [],
   "source": [
    "classloss = tf.keras.losses.BinaryCrossentropy()\n",
    "regressloss = localization_loss"
   ]
  },
  {
   "cell_type": "code",
   "execution_count": null,
   "id": "434fdf70-4dac-483a-bc1e-cb16c064538d",
   "metadata": {},
   "outputs": [],
   "source": [
    "# Test out Loss Metrics\n",
    "localization_loss(y[1], coords).numpy()"
   ]
  },
  {
   "cell_type": "code",
   "execution_count": null,
   "id": "301e9e78-1c8b-4ea1-9022-a23fc07d6a5c",
   "metadata": {},
   "outputs": [],
   "source": [
    "classloss(y[0], classes).numpy()"
   ]
  },
  {
   "cell_type": "code",
   "execution_count": null,
   "id": "55a07d02-a5f8-4cfe-bdfc-2fa66d984d2a",
   "metadata": {},
   "outputs": [],
   "source": [
    "regressloss(y[1], coords).numpy()"
   ]
  },
  {
   "cell_type": "markdown",
   "id": "f8227b06-0533-47c8-b194-6b413bfd0bfd",
   "metadata": {},
   "source": [
    "Train Neural Network"
   ]
  },
  {
   "cell_type": "code",
   "execution_count": null,
   "id": "91b2af75-741a-4384-89ed-42c2c28e3cc0",
   "metadata": {},
   "outputs": [],
   "source": [
    "# Create Custom Model Class\n",
    "\n",
    "class FaceTracker(Model):\n",
    "    def __init__(self, facetracker, **kwargs):\n",
    "        super().__init__(**kwargs)\n",
    "        self.model = facetracker\n",
    "    \n",
    "    def compile(self, opt, classloss, localizationloss, **kwargs):\n",
    "        super().compile(**kwargs)\n",
    "        self.closs = classloss\n",
    "        self.lloss = localizationloss\n",
    "        self.opt = opt\n",
    "    \n",
    "    def train_step(self, batch, **kwargs): \n",
    "        # Takes in 1 batch of data and train on that batch\n",
    "        X, y = batch\n",
    "        \n",
    "        with tf.GradientTape() as tape:  # Calculate everything happening within neural network\n",
    "            # Make Prediction \n",
    "            classes, coords = self.model(X, training=True)  \n",
    "            \n",
    "            # Calculate Loss\n",
    "            batch_classloss = self.closs(y[0], classes)\n",
    "            batch_localizationloss = self.lloss(tf.cast(y[1], tf.float32), coords)\n",
    "            \n",
    "            total_loss = batch_localizationloss + 0.5 * batch_classloss\n",
    "            \n",
    "            # Calculate Gradient\n",
    "            grad = tape.gradient(total_loss, self.model.trainable_variables)\n",
    "            \n",
    "        # Apply back propagation and apply gradient descent to all variables\n",
    "        opt.apply_gradients(zip(grad, self.model.trainable_variables))\n",
    "        \n",
    "        return {\"total_loss\":total_loss, \"class_loss\":batch_classloss, \"regress_loss\":batch_localizationloss}\n",
    "    \n",
    "    def test_step(self, batch, **kwargs):\n",
    "        # Takes in 1 batch of data and train on that batch\n",
    "        X, y = batch\n",
    "        \n",
    "        # Make Prediction \n",
    "        classes, coords = self.model(X, training=False)\n",
    "        \n",
    "        # Calculate Loss\n",
    "        batch_classloss = self.closs(y[0], classes)\n",
    "        batch_localizationloss = self.lloss(tf.cast(y[1], tf.float32), coords)\n",
    "        total_loss = batch_localizationloss + 0.5 * batch_classloss\n",
    "        \n",
    "        return {\"total_loss\":total_loss, \"class_loss\":batch_classloss, \"regress_loss\":batch_localizationloss}\n",
    "    \n",
    "    def call(self, X, **kwargs):\n",
    "        return self.model(X, kwargs)"
   ]
  },
  {
   "cell_type": "code",
   "execution_count": null,
   "id": "68bb77ad-3b9d-4f82-8b31-291b7dea7524",
   "metadata": {},
   "outputs": [],
   "source": [
    "model = FaceTracker(facetracker)"
   ]
  },
  {
   "cell_type": "code",
   "execution_count": null,
   "id": "189208d8-05fb-45b0-9366-84c6046fd9e5",
   "metadata": {},
   "outputs": [],
   "source": [
    "model.compile(opt, classloss, regressloss)"
   ]
  },
  {
   "cell_type": "code",
   "execution_count": null,
   "id": "c376938d-0ec0-49d5-8cda-e0806b5a4e91",
   "metadata": {},
   "outputs": [],
   "source": [
    "# Train\n",
    "logdir='logs'"
   ]
  },
  {
   "cell_type": "code",
   "execution_count": null,
   "id": "ba1a0522-259f-4448-94c9-9db9706f8eb0",
   "metadata": {},
   "outputs": [],
   "source": [
    "tensorboard_callback = tf.keras.callbacks.TensorBoard(log_dir=logdir)"
   ]
  },
  {
   "cell_type": "code",
   "execution_count": null,
   "id": "8fbab0eb-a20a-4641-a256-d7c2e8612683",
   "metadata": {},
   "outputs": [],
   "source": [
    "hist = model.fit(train, epochs=40, validation_data=val, callbacks=[tensorboard_callback])"
   ]
  },
  {
   "cell_type": "code",
   "execution_count": null,
   "id": "7c982511-b18f-446a-a109-ada6d4f69485",
   "metadata": {
    "tags": []
   },
   "outputs": [],
   "source": [
    "hist.history"
   ]
  },
  {
   "cell_type": "code",
   "execution_count": null,
   "id": "7999f767-3023-4a72-8208-fbc4b21fd70c",
   "metadata": {},
   "outputs": [],
   "source": [
    "fig, ax = plt.subplots(ncols=3, figsize=(20,5))\n",
    "\n",
    "ax[0].plot(hist.history['total_loss'], color='teal', label='loss')\n",
    "ax[0].plot(hist.history['val_total_loss'], color='orange', label='val loss')\n",
    "ax[0].title.set_text('Loss')\n",
    "ax[0].legend()\n",
    "\n",
    "ax[1].plot(hist.history['class_loss'], color='teal', label='class loss')\n",
    "ax[1].plot(hist.history['val_class_loss'], color='orange', label='val class loss')\n",
    "ax[1].title.set_text('Classification Loss')\n",
    "ax[1].legend()\n",
    "   \n",
    "ax[2].plot(hist.history['regress_loss'], color='teal', label='regress loss')\n",
    "ax[2].plot(hist.history['val_regress_loss'], color='orange', label='val regress loss')\n",
    "ax[2].title.set_text('Regression Loss')\n",
    "ax[2].legend()\n",
    "\n",
    "plt.show()"
   ]
  },
  {
   "cell_type": "markdown",
   "id": "673a427a-d241-4f4f-92e6-4d9657cbbf18",
   "metadata": {},
   "source": [
    "Make Predictions"
   ]
  },
  {
   "cell_type": "code",
   "execution_count": null,
   "id": "48b7bd34-6b86-4f51-a614-71782e128c9b",
   "metadata": {},
   "outputs": [],
   "source": [
    "# Make Predictions on Test Set\n",
    "test_data = test.as_numpy_iterator()"
   ]
  },
  {
   "cell_type": "code",
   "execution_count": null,
   "id": "3cd0c8a5-ab39-4ed0-a29d-5db7002025c5",
   "metadata": {},
   "outputs": [],
   "source": [
    "test_sample = test_data.next()"
   ]
  },
  {
   "cell_type": "code",
   "execution_count": null,
   "id": "7028b081-2eb7-42f3-bc3e-607f94437802",
   "metadata": {},
   "outputs": [],
   "source": [
    "yhat = facetracker.predict(test_sample[0])"
   ]
  },
  {
   "cell_type": "code",
   "execution_count": null,
   "id": "0c03d9be-a64e-47fc-accf-35163cef474f",
   "metadata": {},
   "outputs": [],
   "source": [
    "fig, ax = plt.subplots(ncols=4, figsize=(20,20))\n",
    "for idx in range(4):\n",
    "    sample_image = test_sample[0][idx]\n",
    "    sample_coords = yhat[1][idx]\n",
    "    \n",
    "    if yhat[0][idx] > 0.5:\n",
    "        cv2.rectangle(sample_image,\n",
    "                      tuple(np.multiply(sample_coords[:2], [120,120]).astype(int)),\n",
    "                      tuple(np.multiply(sample_coords[2:], [120,120]).astype(int)),\n",
    "                            (255,0,0), 2)\n",
    "    ax[idx].imshow(sample_image)"
   ]
  },
  {
   "cell_type": "code",
   "execution_count": 6,
   "id": "b5a3ca9d-a1f6-4347-a7d2-c889f1e26f42",
   "metadata": {},
   "outputs": [],
   "source": [
    "# Save the Model\n",
    "# For new run after everything has been trained\n",
    "# Load the imports at the top with GPU memory growth, this, and facetracker\n",
    "from tensorflow.keras.models import load_model"
   ]
  },
  {
   "cell_type": "code",
   "execution_count": null,
   "id": "4043df69-01e1-405a-a6c0-2d33dd06208d",
   "metadata": {},
   "outputs": [],
   "source": [
    "facetracker.save('facetracker.h5')"
   ]
  },
  {
   "cell_type": "code",
   "execution_count": 4,
   "id": "3aceaeeb-7a47-461a-b7d5-e2dbe8ef63de",
   "metadata": {},
   "outputs": [],
   "source": [
    "from numba import cuda \n",
    "device = cuda.get_current_device()\n",
    "device.reset()"
   ]
  },
  {
   "cell_type": "code",
   "execution_count": 7,
   "id": "df709f5c-11fb-4c63-a769-4ed2350c2f9b",
   "metadata": {},
   "outputs": [
    {
     "name": "stderr",
     "output_type": "stream",
     "text": [
      "2022-11-24 23:12:42.872967: I tensorflow/core/platform/cpu_feature_guard.cc:193] This TensorFlow binary is optimized with oneAPI Deep Neural Network Library (oneDNN) to use the following CPU instructions in performance-critical operations:  AVX2 FMA\n",
      "To enable them in other operations, rebuild TensorFlow with the appropriate compiler flags.\n",
      "2022-11-24 23:12:42.873518: I tensorflow/stream_executor/cuda/cuda_gpu_executor.cc:975] successful NUMA node read from SysFS had negative value (-1), but there must be at least one NUMA node, so returning NUMA node zero\n",
      "2022-11-24 23:12:42.873653: I tensorflow/stream_executor/cuda/cuda_gpu_executor.cc:975] successful NUMA node read from SysFS had negative value (-1), but there must be at least one NUMA node, so returning NUMA node zero\n",
      "2022-11-24 23:12:42.873754: I tensorflow/stream_executor/cuda/cuda_gpu_executor.cc:975] successful NUMA node read from SysFS had negative value (-1), but there must be at least one NUMA node, so returning NUMA node zero\n",
      "2022-11-24 23:12:43.377688: I tensorflow/stream_executor/cuda/cuda_gpu_executor.cc:975] successful NUMA node read from SysFS had negative value (-1), but there must be at least one NUMA node, so returning NUMA node zero\n",
      "2022-11-24 23:12:43.377826: I tensorflow/stream_executor/cuda/cuda_gpu_executor.cc:975] successful NUMA node read from SysFS had negative value (-1), but there must be at least one NUMA node, so returning NUMA node zero\n",
      "2022-11-24 23:12:43.377935: I tensorflow/stream_executor/cuda/cuda_gpu_executor.cc:975] successful NUMA node read from SysFS had negative value (-1), but there must be at least one NUMA node, so returning NUMA node zero\n",
      "2022-11-24 23:12:43.378029: I tensorflow/core/common_runtime/gpu/gpu_device.cc:1532] Created device /job:localhost/replica:0/task:0/device:GPU:0 with 9711 MB memory:  -> device: 0, name: NVIDIA GeForce RTX 3060, pci bus id: 0000:01:00.0, compute capability: 8.6\n"
     ]
    },
    {
     "name": "stdout",
     "output_type": "stream",
     "text": [
      "WARNING:tensorflow:No training configuration found in the save file, so the model was *not* compiled. Compile it manually.\n"
     ]
    }
   ],
   "source": [
    "facetracker = load_model('facetracker.h5')"
   ]
  },
  {
   "cell_type": "code",
   "execution_count": 8,
   "id": "440449e9-9265-4ed1-ab75-67210f395181",
   "metadata": {},
   "outputs": [
    {
     "name": "stderr",
     "output_type": "stream",
     "text": [
      "2022-11-24 23:12:53.009467: I tensorflow/stream_executor/cuda/cuda_dnn.cc:384] Loaded cuDNN version 8204\n"
     ]
    },
    {
     "name": "stdout",
     "output_type": "stream",
     "text": [
      "1/1 [==============================] - 3s 3s/step\n",
      "1/1 [==============================] - 0s 14ms/step\n"
     ]
    },
    {
     "name": "stderr",
     "output_type": "stream",
     "text": [
      "2022-11-24 23:12:55.431309: I tensorflow/stream_executor/cuda/cuda_blas.cc:1786] TensorFloat-32 will be used for the matrix multiplication. This will only be logged once.\n",
      "QObject::moveToThread: Current thread (0x2092dab0) is not the object's thread (0x205e8220).\n",
      "Cannot move to target thread (0x2092dab0)\n",
      "\n",
      "QObject::moveToThread: Current thread (0x2092dab0) is not the object's thread (0x205e8220).\n",
      "Cannot move to target thread (0x2092dab0)\n",
      "\n",
      "QObject::moveToThread: Current thread (0x2092dab0) is not the object's thread (0x205e8220).\n",
      "Cannot move to target thread (0x2092dab0)\n",
      "\n",
      "QObject::moveToThread: Current thread (0x2092dab0) is not the object's thread (0x205e8220).\n",
      "Cannot move to target thread (0x2092dab0)\n",
      "\n",
      "QObject::moveToThread: Current thread (0x2092dab0) is not the object's thread (0x205e8220).\n",
      "Cannot move to target thread (0x2092dab0)\n",
      "\n",
      "QObject::moveToThread: Current thread (0x2092dab0) is not the object's thread (0x205e8220).\n",
      "Cannot move to target thread (0x2092dab0)\n",
      "\n",
      "QObject::moveToThread: Current thread (0x2092dab0) is not the object's thread (0x205e8220).\n",
      "Cannot move to target thread (0x2092dab0)\n",
      "\n",
      "QObject::moveToThread: Current thread (0x2092dab0) is not the object's thread (0x205e8220).\n",
      "Cannot move to target thread (0x2092dab0)\n",
      "\n",
      "QObject::moveToThread: Current thread (0x2092dab0) is not the object's thread (0x205e8220).\n",
      "Cannot move to target thread (0x2092dab0)\n",
      "\n",
      "QObject::moveToThread: Current thread (0x2092dab0) is not the object's thread (0x205e8220).\n",
      "Cannot move to target thread (0x2092dab0)\n",
      "\n",
      "QObject::moveToThread: Current thread (0x2092dab0) is not the object's thread (0x205e8220).\n",
      "Cannot move to target thread (0x2092dab0)\n",
      "\n",
      "QObject::moveToThread: Current thread (0x2092dab0) is not the object's thread (0x205e8220).\n",
      "Cannot move to target thread (0x2092dab0)\n",
      "\n",
      "QObject::moveToThread: Current thread (0x2092dab0) is not the object's thread (0x205e8220).\n",
      "Cannot move to target thread (0x2092dab0)\n",
      "\n",
      "QObject::moveToThread: Current thread (0x2092dab0) is not the object's thread (0x205e8220).\n",
      "Cannot move to target thread (0x2092dab0)\n",
      "\n",
      "QObject::moveToThread: Current thread (0x2092dab0) is not the object's thread (0x205e8220).\n",
      "Cannot move to target thread (0x2092dab0)\n",
      "\n",
      "QObject::moveToThread: Current thread (0x2092dab0) is not the object's thread (0x205e8220).\n",
      "Cannot move to target thread (0x2092dab0)\n",
      "\n",
      "QObject::moveToThread: Current thread (0x2092dab0) is not the object's thread (0x205e8220).\n",
      "Cannot move to target thread (0x2092dab0)\n",
      "\n",
      "QObject::moveToThread: Current thread (0x2092dab0) is not the object's thread (0x205e8220).\n",
      "Cannot move to target thread (0x2092dab0)\n",
      "\n",
      "QObject::moveToThread: Current thread (0x2092dab0) is not the object's thread (0x205e8220).\n",
      "Cannot move to target thread (0x2092dab0)\n",
      "\n",
      "QObject::moveToThread: Current thread (0x2092dab0) is not the object's thread (0x205e8220).\n",
      "Cannot move to target thread (0x2092dab0)\n",
      "\n",
      "QObject::moveToThread: Current thread (0x2092dab0) is not the object's thread (0x205e8220).\n",
      "Cannot move to target thread (0x2092dab0)\n",
      "\n",
      "QObject::moveToThread: Current thread (0x2092dab0) is not the object's thread (0x205e8220).\n",
      "Cannot move to target thread (0x2092dab0)\n",
      "\n",
      "QObject::moveToThread: Current thread (0x2092dab0) is not the object's thread (0x205e8220).\n",
      "Cannot move to target thread (0x2092dab0)\n",
      "\n",
      "QObject::moveToThread: Current thread (0x2092dab0) is not the object's thread (0x205e8220).\n",
      "Cannot move to target thread (0x2092dab0)\n",
      "\n",
      "QObject::moveToThread: Current thread (0x2092dab0) is not the object's thread (0x205e8220).\n",
      "Cannot move to target thread (0x2092dab0)\n",
      "\n",
      "QObject::moveToThread: Current thread (0x2092dab0) is not the object's thread (0x205e8220).\n",
      "Cannot move to target thread (0x2092dab0)\n",
      "\n",
      "QObject::moveToThread: Current thread (0x2092dab0) is not the object's thread (0x205e8220).\n",
      "Cannot move to target thread (0x2092dab0)\n",
      "\n",
      "QObject::moveToThread: Current thread (0x2092dab0) is not the object's thread (0x205e8220).\n",
      "Cannot move to target thread (0x2092dab0)\n",
      "\n",
      "QObject::moveToThread: Current thread (0x2092dab0) is not the object's thread (0x205e8220).\n",
      "Cannot move to target thread (0x2092dab0)\n",
      "\n",
      "QObject::moveToThread: Current thread (0x2092dab0) is not the object's thread (0x205e8220).\n",
      "Cannot move to target thread (0x2092dab0)\n",
      "\n",
      "QObject::moveToThread: Current thread (0x2092dab0) is not the object's thread (0x205e8220).\n",
      "Cannot move to target thread (0x2092dab0)\n",
      "\n",
      "QObject::moveToThread: Current thread (0x2092dab0) is not the object's thread (0x205e8220).\n",
      "Cannot move to target thread (0x2092dab0)\n",
      "\n",
      "QObject::moveToThread: Current thread (0x2092dab0) is not the object's thread (0x205e8220).\n",
      "Cannot move to target thread (0x2092dab0)\n",
      "\n",
      "QObject::moveToThread: Current thread (0x2092dab0) is not the object's thread (0x205e8220).\n",
      "Cannot move to target thread (0x2092dab0)\n",
      "\n",
      "QObject::moveToThread: Current thread (0x2092dab0) is not the object's thread (0x205e8220).\n",
      "Cannot move to target thread (0x2092dab0)\n",
      "\n",
      "QObject::moveToThread: Current thread (0x2092dab0) is not the object's thread (0x205e8220).\n",
      "Cannot move to target thread (0x2092dab0)\n",
      "\n",
      "QObject::moveToThread: Current thread (0x2092dab0) is not the object's thread (0x205e8220).\n",
      "Cannot move to target thread (0x2092dab0)\n",
      "\n",
      "QObject::moveToThread: Current thread (0x2092dab0) is not the object's thread (0x205e8220).\n",
      "Cannot move to target thread (0x2092dab0)\n",
      "\n",
      "QObject::moveToThread: Current thread (0x2092dab0) is not the object's thread (0x205e8220).\n",
      "Cannot move to target thread (0x2092dab0)\n",
      "\n",
      "QObject::moveToThread: Current thread (0x2092dab0) is not the object's thread (0x205e8220).\n",
      "Cannot move to target thread (0x2092dab0)\n",
      "\n",
      "QObject::moveToThread: Current thread (0x2092dab0) is not the object's thread (0x205e8220).\n",
      "Cannot move to target thread (0x2092dab0)\n",
      "\n",
      "QObject::moveToThread: Current thread (0x2092dab0) is not the object's thread (0x205e8220).\n",
      "Cannot move to target thread (0x2092dab0)\n",
      "\n",
      "QObject::moveToThread: Current thread (0x2092dab0) is not the object's thread (0x205e8220).\n",
      "Cannot move to target thread (0x2092dab0)\n",
      "\n",
      "QObject::moveToThread: Current thread (0x2092dab0) is not the object's thread (0x205e8220).\n",
      "Cannot move to target thread (0x2092dab0)\n",
      "\n",
      "QObject::moveToThread: Current thread (0x2092dab0) is not the object's thread (0x205e8220).\n",
      "Cannot move to target thread (0x2092dab0)\n",
      "\n",
      "QObject::moveToThread: Current thread (0x2092dab0) is not the object's thread (0x205e8220).\n",
      "Cannot move to target thread (0x2092dab0)\n",
      "\n",
      "QObject::moveToThread: Current thread (0x2092dab0) is not the object's thread (0x205e8220).\n",
      "Cannot move to target thread (0x2092dab0)\n",
      "\n",
      "QObject::moveToThread: Current thread (0x2092dab0) is not the object's thread (0x205e8220).\n",
      "Cannot move to target thread (0x2092dab0)\n",
      "\n",
      "QObject::moveToThread: Current thread (0x2092dab0) is not the object's thread (0x205e8220).\n",
      "Cannot move to target thread (0x2092dab0)\n",
      "\n",
      "QObject::moveToThread: Current thread (0x2092dab0) is not the object's thread (0x205e8220).\n",
      "Cannot move to target thread (0x2092dab0)\n",
      "\n",
      "QObject::moveToThread: Current thread (0x2092dab0) is not the object's thread (0x205e8220).\n",
      "Cannot move to target thread (0x2092dab0)\n",
      "\n",
      "QObject::moveToThread: Current thread (0x2092dab0) is not the object's thread (0x205e8220).\n",
      "Cannot move to target thread (0x2092dab0)\n",
      "\n",
      "QObject::moveToThread: Current thread (0x2092dab0) is not the object's thread (0x205e8220).\n",
      "Cannot move to target thread (0x2092dab0)\n",
      "\n",
      "QObject::moveToThread: Current thread (0x2092dab0) is not the object's thread (0x205e8220).\n",
      "Cannot move to target thread (0x2092dab0)\n",
      "\n",
      "QObject::moveToThread: Current thread (0x2092dab0) is not the object's thread (0x205e8220).\n",
      "Cannot move to target thread (0x2092dab0)\n",
      "\n",
      "QObject::moveToThread: Current thread (0x2092dab0) is not the object's thread (0x205e8220).\n",
      "Cannot move to target thread (0x2092dab0)\n",
      "\n",
      "QObject::moveToThread: Current thread (0x2092dab0) is not the object's thread (0x205e8220).\n",
      "Cannot move to target thread (0x2092dab0)\n",
      "\n",
      "QObject::moveToThread: Current thread (0x2092dab0) is not the object's thread (0x205e8220).\n",
      "Cannot move to target thread (0x2092dab0)\n",
      "\n",
      "QObject::moveToThread: Current thread (0x2092dab0) is not the object's thread (0x205e8220).\n",
      "Cannot move to target thread (0x2092dab0)\n",
      "\n",
      "QObject::moveToThread: Current thread (0x2092dab0) is not the object's thread (0x205e8220).\n",
      "Cannot move to target thread (0x2092dab0)\n",
      "\n",
      "QObject::moveToThread: Current thread (0x2092dab0) is not the object's thread (0x205e8220).\n",
      "Cannot move to target thread (0x2092dab0)\n",
      "\n",
      "QObject::moveToThread: Current thread (0x2092dab0) is not the object's thread (0x205e8220).\n",
      "Cannot move to target thread (0x2092dab0)\n",
      "\n",
      "QObject::moveToThread: Current thread (0x2092dab0) is not the object's thread (0x205e8220).\n",
      "Cannot move to target thread (0x2092dab0)\n",
      "\n",
      "QObject::moveToThread: Current thread (0x2092dab0) is not the object's thread (0x205e8220).\n",
      "Cannot move to target thread (0x2092dab0)\n",
      "\n",
      "QObject::moveToThread: Current thread (0x2092dab0) is not the object's thread (0x205e8220).\n",
      "Cannot move to target thread (0x2092dab0)\n",
      "\n",
      "QObject::moveToThread: Current thread (0x2092dab0) is not the object's thread (0x205e8220).\n",
      "Cannot move to target thread (0x2092dab0)\n",
      "\n",
      "QObject::moveToThread: Current thread (0x2092dab0) is not the object's thread (0x205e8220).\n",
      "Cannot move to target thread (0x2092dab0)\n",
      "\n",
      "QObject::moveToThread: Current thread (0x2092dab0) is not the object's thread (0x205e8220).\n",
      "Cannot move to target thread (0x2092dab0)\n",
      "\n",
      "QObject::moveToThread: Current thread (0x2092dab0) is not the object's thread (0x205e8220).\n",
      "Cannot move to target thread (0x2092dab0)\n",
      "\n",
      "QObject::moveToThread: Current thread (0x2092dab0) is not the object's thread (0x205e8220).\n",
      "Cannot move to target thread (0x2092dab0)\n",
      "\n",
      "QObject::moveToThread: Current thread (0x2092dab0) is not the object's thread (0x205e8220).\n",
      "Cannot move to target thread (0x2092dab0)\n",
      "\n",
      "QObject::moveToThread: Current thread (0x2092dab0) is not the object's thread (0x205e8220).\n",
      "Cannot move to target thread (0x2092dab0)\n",
      "\n",
      "QObject::moveToThread: Current thread (0x2092dab0) is not the object's thread (0x205e8220).\n",
      "Cannot move to target thread (0x2092dab0)\n",
      "\n",
      "QObject::moveToThread: Current thread (0x2092dab0) is not the object's thread (0x205e8220).\n",
      "Cannot move to target thread (0x2092dab0)\n",
      "\n",
      "QObject::moveToThread: Current thread (0x2092dab0) is not the object's thread (0x205e8220).\n",
      "Cannot move to target thread (0x2092dab0)\n",
      "\n",
      "QObject::moveToThread: Current thread (0x2092dab0) is not the object's thread (0x205e8220).\n",
      "Cannot move to target thread (0x2092dab0)\n",
      "\n",
      "QObject::moveToThread: Current thread (0x2092dab0) is not the object's thread (0x205e8220).\n",
      "Cannot move to target thread (0x2092dab0)\n",
      "\n",
      "QObject::moveToThread: Current thread (0x2092dab0) is not the object's thread (0x205e8220).\n",
      "Cannot move to target thread (0x2092dab0)\n",
      "\n",
      "QObject::moveToThread: Current thread (0x2092dab0) is not the object's thread (0x205e8220).\n",
      "Cannot move to target thread (0x2092dab0)\n",
      "\n",
      "QObject::moveToThread: Current thread (0x2092dab0) is not the object's thread (0x205e8220).\n",
      "Cannot move to target thread (0x2092dab0)\n",
      "\n",
      "QObject::moveToThread: Current thread (0x2092dab0) is not the object's thread (0x205e8220).\n",
      "Cannot move to target thread (0x2092dab0)\n",
      "\n",
      "QObject::moveToThread: Current thread (0x2092dab0) is not the object's thread (0x205e8220).\n",
      "Cannot move to target thread (0x2092dab0)\n",
      "\n",
      "QObject::moveToThread: Current thread (0x2092dab0) is not the object's thread (0x205e8220).\n",
      "Cannot move to target thread (0x2092dab0)\n",
      "\n",
      "QObject::moveToThread: Current thread (0x2092dab0) is not the object's thread (0x205e8220).\n",
      "Cannot move to target thread (0x2092dab0)\n",
      "\n",
      "QObject::moveToThread: Current thread (0x2092dab0) is not the object's thread (0x205e8220).\n",
      "Cannot move to target thread (0x2092dab0)\n",
      "\n",
      "QObject::moveToThread: Current thread (0x2092dab0) is not the object's thread (0x205e8220).\n",
      "Cannot move to target thread (0x2092dab0)\n",
      "\n",
      "QObject::moveToThread: Current thread (0x2092dab0) is not the object's thread (0x205e8220).\n",
      "Cannot move to target thread (0x2092dab0)\n",
      "\n",
      "QObject::moveToThread: Current thread (0x2092dab0) is not the object's thread (0x205e8220).\n",
      "Cannot move to target thread (0x2092dab0)\n",
      "\n",
      "QObject::moveToThread: Current thread (0x2092dab0) is not the object's thread (0x205e8220).\n",
      "Cannot move to target thread (0x2092dab0)\n",
      "\n",
      "QObject::moveToThread: Current thread (0x2092dab0) is not the object's thread (0x205e8220).\n",
      "Cannot move to target thread (0x2092dab0)\n",
      "\n",
      "QObject::moveToThread: Current thread (0x2092dab0) is not the object's thread (0x205e8220).\n",
      "Cannot move to target thread (0x2092dab0)\n",
      "\n",
      "QObject::moveToThread: Current thread (0x2092dab0) is not the object's thread (0x205e8220).\n",
      "Cannot move to target thread (0x2092dab0)\n",
      "\n",
      "QObject::moveToThread: Current thread (0x2092dab0) is not the object's thread (0x205e8220).\n",
      "Cannot move to target thread (0x2092dab0)\n",
      "\n",
      "QObject::moveToThread: Current thread (0x2092dab0) is not the object's thread (0x205e8220).\n",
      "Cannot move to target thread (0x2092dab0)\n",
      "\n",
      "QObject::moveToThread: Current thread (0x2092dab0) is not the object's thread (0x205e8220).\n",
      "Cannot move to target thread (0x2092dab0)\n",
      "\n",
      "QObject::moveToThread: Current thread (0x2092dab0) is not the object's thread (0x205e8220).\n",
      "Cannot move to target thread (0x2092dab0)\n",
      "\n",
      "QObject::moveToThread: Current thread (0x2092dab0) is not the object's thread (0x205e8220).\n",
      "Cannot move to target thread (0x2092dab0)\n",
      "\n",
      "QObject::moveToThread: Current thread (0x2092dab0) is not the object's thread (0x205e8220).\n",
      "Cannot move to target thread (0x2092dab0)\n",
      "\n",
      "QObject::moveToThread: Current thread (0x2092dab0) is not the object's thread (0x205e8220).\n",
      "Cannot move to target thread (0x2092dab0)\n",
      "\n",
      "QObject::moveToThread: Current thread (0x2092dab0) is not the object's thread (0x205e8220).\n",
      "Cannot move to target thread (0x2092dab0)\n",
      "\n",
      "QObject::moveToThread: Current thread (0x2092dab0) is not the object's thread (0x205e8220).\n",
      "Cannot move to target thread (0x2092dab0)\n",
      "\n",
      "QObject::moveToThread: Current thread (0x2092dab0) is not the object's thread (0x205e8220).\n",
      "Cannot move to target thread (0x2092dab0)\n",
      "\n",
      "QObject::moveToThread: Current thread (0x2092dab0) is not the object's thread (0x205e8220).\n",
      "Cannot move to target thread (0x2092dab0)\n",
      "\n",
      "QObject::moveToThread: Current thread (0x2092dab0) is not the object's thread (0x205e8220).\n",
      "Cannot move to target thread (0x2092dab0)\n",
      "\n",
      "QObject::moveToThread: Current thread (0x2092dab0) is not the object's thread (0x205e8220).\n",
      "Cannot move to target thread (0x2092dab0)\n",
      "\n",
      "QObject::moveToThread: Current thread (0x2092dab0) is not the object's thread (0x205e8220).\n",
      "Cannot move to target thread (0x2092dab0)\n",
      "\n",
      "QObject::moveToThread: Current thread (0x2092dab0) is not the object's thread (0x205e8220).\n",
      "Cannot move to target thread (0x2092dab0)\n",
      "\n",
      "QObject::moveToThread: Current thread (0x2092dab0) is not the object's thread (0x205e8220).\n",
      "Cannot move to target thread (0x2092dab0)\n",
      "\n",
      "QObject::moveToThread: Current thread (0x2092dab0) is not the object's thread (0x205e8220).\n",
      "Cannot move to target thread (0x2092dab0)\n",
      "\n",
      "QObject::moveToThread: Current thread (0x2092dab0) is not the object's thread (0x205e8220).\n",
      "Cannot move to target thread (0x2092dab0)\n",
      "\n",
      "QObject::moveToThread: Current thread (0x2092dab0) is not the object's thread (0x205e8220).\n",
      "Cannot move to target thread (0x2092dab0)\n",
      "\n",
      "QObject::moveToThread: Current thread (0x2092dab0) is not the object's thread (0x205e8220).\n",
      "Cannot move to target thread (0x2092dab0)\n",
      "\n",
      "QObject::moveToThread: Current thread (0x2092dab0) is not the object's thread (0x205e8220).\n",
      "Cannot move to target thread (0x2092dab0)\n",
      "\n",
      "QObject::moveToThread: Current thread (0x2092dab0) is not the object's thread (0x205e8220).\n",
      "Cannot move to target thread (0x2092dab0)\n",
      "\n",
      "QObject::moveToThread: Current thread (0x2092dab0) is not the object's thread (0x205e8220).\n",
      "Cannot move to target thread (0x2092dab0)\n",
      "\n",
      "QObject::moveToThread: Current thread (0x2092dab0) is not the object's thread (0x205e8220).\n",
      "Cannot move to target thread (0x2092dab0)\n",
      "\n",
      "QObject::moveToThread: Current thread (0x2092dab0) is not the object's thread (0x205e8220).\n",
      "Cannot move to target thread (0x2092dab0)\n",
      "\n",
      "QObject::moveToThread: Current thread (0x2092dab0) is not the object's thread (0x205e8220).\n",
      "Cannot move to target thread (0x2092dab0)\n",
      "\n",
      "QObject::moveToThread: Current thread (0x2092dab0) is not the object's thread (0x205e8220).\n",
      "Cannot move to target thread (0x2092dab0)\n",
      "\n",
      "QObject::moveToThread: Current thread (0x2092dab0) is not the object's thread (0x205e8220).\n",
      "Cannot move to target thread (0x2092dab0)\n",
      "\n",
      "QObject::moveToThread: Current thread (0x2092dab0) is not the object's thread (0x205e8220).\n",
      "Cannot move to target thread (0x2092dab0)\n",
      "\n",
      "QObject::moveToThread: Current thread (0x2092dab0) is not the object's thread (0x205e8220).\n",
      "Cannot move to target thread (0x2092dab0)\n",
      "\n",
      "QObject::moveToThread: Current thread (0x2092dab0) is not the object's thread (0x205e8220).\n",
      "Cannot move to target thread (0x2092dab0)\n",
      "\n",
      "QObject::moveToThread: Current thread (0x2092dab0) is not the object's thread (0x205e8220).\n",
      "Cannot move to target thread (0x2092dab0)\n",
      "\n",
      "QObject::moveToThread: Current thread (0x2092dab0) is not the object's thread (0x205e8220).\n",
      "Cannot move to target thread (0x2092dab0)\n",
      "\n",
      "QObject::moveToThread: Current thread (0x2092dab0) is not the object's thread (0x205e8220).\n",
      "Cannot move to target thread (0x2092dab0)\n",
      "\n",
      "QObject::moveToThread: Current thread (0x2092dab0) is not the object's thread (0x205e8220).\n",
      "Cannot move to target thread (0x2092dab0)\n",
      "\n",
      "QObject::moveToThread: Current thread (0x2092dab0) is not the object's thread (0x205e8220).\n",
      "Cannot move to target thread (0x2092dab0)\n",
      "\n",
      "QObject::moveToThread: Current thread (0x2092dab0) is not the object's thread (0x205e8220).\n",
      "Cannot move to target thread (0x2092dab0)\n",
      "\n",
      "QObject::moveToThread: Current thread (0x2092dab0) is not the object's thread (0x205e8220).\n",
      "Cannot move to target thread (0x2092dab0)\n",
      "\n",
      "QObject::moveToThread: Current thread (0x2092dab0) is not the object's thread (0x205e8220).\n",
      "Cannot move to target thread (0x2092dab0)\n",
      "\n",
      "QObject::moveToThread: Current thread (0x2092dab0) is not the object's thread (0x205e8220).\n",
      "Cannot move to target thread (0x2092dab0)\n",
      "\n",
      "QObject::moveToThread: Current thread (0x2092dab0) is not the object's thread (0x205e8220).\n",
      "Cannot move to target thread (0x2092dab0)\n",
      "\n",
      "QObject::moveToThread: Current thread (0x2092dab0) is not the object's thread (0x205e8220).\n",
      "Cannot move to target thread (0x2092dab0)\n",
      "\n",
      "QObject::moveToThread: Current thread (0x2092dab0) is not the object's thread (0x205e8220).\n",
      "Cannot move to target thread (0x2092dab0)\n",
      "\n",
      "QObject::moveToThread: Current thread (0x2092dab0) is not the object's thread (0x205e8220).\n",
      "Cannot move to target thread (0x2092dab0)\n",
      "\n",
      "QObject::moveToThread: Current thread (0x2092dab0) is not the object's thread (0x205e8220).\n",
      "Cannot move to target thread (0x2092dab0)\n",
      "\n",
      "QObject::moveToThread: Current thread (0x2092dab0) is not the object's thread (0x205e8220).\n",
      "Cannot move to target thread (0x2092dab0)\n",
      "\n",
      "QObject::moveToThread: Current thread (0x2092dab0) is not the object's thread (0x205e8220).\n",
      "Cannot move to target thread (0x2092dab0)\n",
      "\n",
      "QObject::moveToThread: Current thread (0x2092dab0) is not the object's thread (0x205e8220).\n",
      "Cannot move to target thread (0x2092dab0)\n",
      "\n",
      "QObject::moveToThread: Current thread (0x2092dab0) is not the object's thread (0x205e8220).\n",
      "Cannot move to target thread (0x2092dab0)\n",
      "\n",
      "QObject::moveToThread: Current thread (0x2092dab0) is not the object's thread (0x205e8220).\n",
      "Cannot move to target thread (0x2092dab0)\n",
      "\n",
      "QObject::moveToThread: Current thread (0x2092dab0) is not the object's thread (0x205e8220).\n",
      "Cannot move to target thread (0x2092dab0)\n",
      "\n",
      "QObject::moveToThread: Current thread (0x2092dab0) is not the object's thread (0x205e8220).\n",
      "Cannot move to target thread (0x2092dab0)\n",
      "\n"
     ]
    },
    {
     "name": "stdout",
     "output_type": "stream",
     "text": [
      "1/1 [==============================] - 0s 15ms/step\n",
      "1/1 [==============================] - 0s 13ms/step\n",
      "1/1 [==============================] - 0s 13ms/step\n",
      "1/1 [==============================] - 0s 12ms/step\n",
      "1/1 [==============================] - 0s 15ms/step\n",
      "1/1 [==============================] - 0s 13ms/step\n",
      "1/1 [==============================] - 0s 13ms/step\n",
      "1/1 [==============================] - 0s 12ms/step\n",
      "1/1 [==============================] - 0s 13ms/step\n",
      "1/1 [==============================] - 0s 12ms/step\n",
      "1/1 [==============================] - 0s 12ms/step\n",
      "1/1 [==============================] - 0s 13ms/step\n",
      "1/1 [==============================] - 0s 12ms/step\n",
      "1/1 [==============================] - 0s 12ms/step\n",
      "1/1 [==============================] - 0s 12ms/step\n",
      "1/1 [==============================] - 0s 12ms/step\n",
      "1/1 [==============================] - 0s 12ms/step\n",
      "1/1 [==============================] - 0s 12ms/step\n",
      "1/1 [==============================] - 0s 12ms/step\n",
      "1/1 [==============================] - 0s 13ms/step\n",
      "1/1 [==============================] - 0s 12ms/step\n",
      "1/1 [==============================] - 0s 12ms/step\n",
      "1/1 [==============================] - 0s 13ms/step\n",
      "1/1 [==============================] - 0s 13ms/step\n",
      "1/1 [==============================] - 0s 12ms/step\n",
      "1/1 [==============================] - 0s 13ms/step\n",
      "1/1 [==============================] - 0s 12ms/step\n",
      "1/1 [==============================] - 0s 13ms/step\n",
      "1/1 [==============================] - 0s 13ms/step\n",
      "1/1 [==============================] - 0s 12ms/step\n",
      "1/1 [==============================] - 0s 12ms/step\n",
      "1/1 [==============================] - 0s 12ms/step\n",
      "1/1 [==============================] - 0s 12ms/step\n",
      "1/1 [==============================] - 0s 13ms/step\n",
      "1/1 [==============================] - 0s 12ms/step\n",
      "1/1 [==============================] - 0s 13ms/step\n",
      "1/1 [==============================] - 0s 16ms/step\n",
      "1/1 [==============================] - 0s 14ms/step\n",
      "1/1 [==============================] - 0s 14ms/step\n",
      "1/1 [==============================] - 0s 16ms/step\n",
      "1/1 [==============================] - 0s 16ms/step\n",
      "1/1 [==============================] - 0s 13ms/step\n",
      "1/1 [==============================] - 0s 13ms/step\n",
      "1/1 [==============================] - 0s 16ms/step\n",
      "1/1 [==============================] - 0s 14ms/step\n",
      "1/1 [==============================] - 0s 14ms/step\n",
      "1/1 [==============================] - 0s 14ms/step\n",
      "1/1 [==============================] - 0s 13ms/step\n",
      "1/1 [==============================] - 0s 14ms/step\n",
      "1/1 [==============================] - 0s 14ms/step\n",
      "1/1 [==============================] - 0s 13ms/step\n",
      "1/1 [==============================] - 0s 12ms/step\n",
      "1/1 [==============================] - 0s 13ms/step\n",
      "1/1 [==============================] - 0s 13ms/step\n",
      "1/1 [==============================] - 0s 13ms/step\n",
      "1/1 [==============================] - 0s 12ms/step\n",
      "1/1 [==============================] - 0s 13ms/step\n",
      "1/1 [==============================] - 0s 13ms/step\n",
      "1/1 [==============================] - 0s 14ms/step\n",
      "1/1 [==============================] - 0s 13ms/step\n",
      "1/1 [==============================] - 0s 13ms/step\n",
      "1/1 [==============================] - 0s 13ms/step\n",
      "1/1 [==============================] - 0s 13ms/step\n",
      "1/1 [==============================] - 0s 13ms/step\n",
      "1/1 [==============================] - 0s 13ms/step\n",
      "1/1 [==============================] - 0s 13ms/step\n",
      "1/1 [==============================] - 0s 13ms/step\n",
      "1/1 [==============================] - 0s 13ms/step\n",
      "1/1 [==============================] - 0s 13ms/step\n",
      "1/1 [==============================] - 0s 13ms/step\n",
      "1/1 [==============================] - 0s 14ms/step\n",
      "1/1 [==============================] - 0s 12ms/step\n",
      "1/1 [==============================] - 0s 13ms/step\n",
      "1/1 [==============================] - 0s 13ms/step\n",
      "1/1 [==============================] - 0s 13ms/step\n",
      "1/1 [==============================] - 0s 12ms/step\n",
      "1/1 [==============================] - 0s 12ms/step\n",
      "1/1 [==============================] - 0s 13ms/step\n",
      "1/1 [==============================] - 0s 13ms/step\n",
      "1/1 [==============================] - 0s 13ms/step\n",
      "1/1 [==============================] - 0s 13ms/step\n",
      "1/1 [==============================] - 0s 24ms/step\n",
      "1/1 [==============================] - 0s 13ms/step\n",
      "1/1 [==============================] - 0s 12ms/step\n",
      "1/1 [==============================] - 0s 13ms/step\n",
      "1/1 [==============================] - 0s 12ms/step\n",
      "1/1 [==============================] - 0s 13ms/step\n",
      "1/1 [==============================] - 0s 13ms/step\n",
      "1/1 [==============================] - 0s 13ms/step\n",
      "1/1 [==============================] - 0s 13ms/step\n",
      "1/1 [==============================] - 0s 13ms/step\n",
      "1/1 [==============================] - 0s 13ms/step\n",
      "1/1 [==============================] - 0s 13ms/step\n",
      "1/1 [==============================] - 0s 13ms/step\n",
      "1/1 [==============================] - 0s 13ms/step\n",
      "1/1 [==============================] - 0s 13ms/step\n",
      "1/1 [==============================] - 0s 13ms/step\n",
      "1/1 [==============================] - 0s 13ms/step\n",
      "1/1 [==============================] - 0s 13ms/step\n",
      "1/1 [==============================] - 0s 14ms/step\n",
      "1/1 [==============================] - 0s 13ms/step\n",
      "1/1 [==============================] - 0s 12ms/step\n",
      "1/1 [==============================] - 0s 12ms/step\n",
      "1/1 [==============================] - 0s 13ms/step\n",
      "1/1 [==============================] - 0s 12ms/step\n",
      "1/1 [==============================] - 0s 12ms/step\n",
      "1/1 [==============================] - 0s 13ms/step\n",
      "1/1 [==============================] - 0s 13ms/step\n",
      "1/1 [==============================] - 0s 13ms/step\n",
      "1/1 [==============================] - 0s 12ms/step\n",
      "1/1 [==============================] - 0s 12ms/step\n",
      "1/1 [==============================] - 0s 13ms/step\n",
      "1/1 [==============================] - 0s 12ms/step\n",
      "1/1 [==============================] - 0s 13ms/step\n",
      "1/1 [==============================] - 0s 12ms/step\n",
      "1/1 [==============================] - 0s 13ms/step\n",
      "1/1 [==============================] - 0s 13ms/step\n",
      "1/1 [==============================] - 0s 13ms/step\n",
      "1/1 [==============================] - 0s 13ms/step\n",
      "1/1 [==============================] - 0s 13ms/step\n",
      "1/1 [==============================] - 0s 13ms/step\n",
      "1/1 [==============================] - 0s 13ms/step\n",
      "1/1 [==============================] - 0s 13ms/step\n",
      "1/1 [==============================] - 0s 13ms/step\n",
      "1/1 [==============================] - 0s 13ms/step\n",
      "1/1 [==============================] - 0s 13ms/step\n",
      "1/1 [==============================] - 0s 13ms/step\n",
      "1/1 [==============================] - 0s 12ms/step\n",
      "1/1 [==============================] - 0s 13ms/step\n",
      "1/1 [==============================] - 0s 12ms/step\n",
      "1/1 [==============================] - 0s 13ms/step\n",
      "1/1 [==============================] - 0s 12ms/step\n",
      "1/1 [==============================] - 0s 13ms/step\n",
      "1/1 [==============================] - 0s 13ms/step\n",
      "1/1 [==============================] - 0s 13ms/step\n",
      "1/1 [==============================] - 0s 13ms/step\n",
      "1/1 [==============================] - 0s 13ms/step\n",
      "1/1 [==============================] - 0s 14ms/step\n",
      "1/1 [==============================] - 0s 13ms/step\n",
      "1/1 [==============================] - 0s 13ms/step\n",
      "1/1 [==============================] - 0s 12ms/step\n",
      "1/1 [==============================] - 0s 13ms/step\n",
      "1/1 [==============================] - 0s 13ms/step\n",
      "1/1 [==============================] - 0s 13ms/step\n",
      "1/1 [==============================] - 0s 13ms/step\n",
      "1/1 [==============================] - 0s 13ms/step\n",
      "1/1 [==============================] - 0s 13ms/step\n",
      "1/1 [==============================] - 0s 13ms/step\n",
      "1/1 [==============================] - 0s 13ms/step\n",
      "1/1 [==============================] - 0s 13ms/step\n",
      "1/1 [==============================] - 0s 12ms/step\n",
      "1/1 [==============================] - 0s 12ms/step\n",
      "1/1 [==============================] - 0s 13ms/step\n",
      "1/1 [==============================] - 0s 13ms/step\n",
      "1/1 [==============================] - 0s 13ms/step\n",
      "1/1 [==============================] - 0s 14ms/step\n",
      "1/1 [==============================] - 0s 14ms/step\n",
      "1/1 [==============================] - 0s 13ms/step\n",
      "1/1 [==============================] - 0s 12ms/step\n",
      "1/1 [==============================] - 0s 14ms/step\n",
      "1/1 [==============================] - 0s 14ms/step\n",
      "1/1 [==============================] - 0s 15ms/step\n",
      "1/1 [==============================] - 0s 14ms/step\n",
      "1/1 [==============================] - 0s 13ms/step\n",
      "1/1 [==============================] - 0s 14ms/step\n",
      "1/1 [==============================] - 0s 14ms/step\n",
      "1/1 [==============================] - 0s 15ms/step\n",
      "1/1 [==============================] - 0s 13ms/step\n",
      "1/1 [==============================] - 0s 13ms/step\n",
      "1/1 [==============================] - 0s 13ms/step\n",
      "1/1 [==============================] - 0s 13ms/step\n",
      "1/1 [==============================] - 0s 14ms/step\n",
      "1/1 [==============================] - 0s 13ms/step\n",
      "1/1 [==============================] - 0s 13ms/step\n",
      "1/1 [==============================] - 0s 13ms/step\n",
      "1/1 [==============================] - 0s 14ms/step\n",
      "1/1 [==============================] - 0s 13ms/step\n",
      "1/1 [==============================] - 0s 13ms/step\n",
      "1/1 [==============================] - 0s 13ms/step\n",
      "1/1 [==============================] - 0s 14ms/step\n",
      "1/1 [==============================] - 0s 14ms/step\n",
      "1/1 [==============================] - 0s 14ms/step\n",
      "1/1 [==============================] - 0s 15ms/step\n",
      "1/1 [==============================] - 0s 15ms/step\n",
      "1/1 [==============================] - 0s 20ms/step\n",
      "1/1 [==============================] - 0s 16ms/step\n",
      "1/1 [==============================] - 0s 16ms/step\n",
      "1/1 [==============================] - 0s 14ms/step\n",
      "1/1 [==============================] - 0s 13ms/step\n",
      "1/1 [==============================] - 0s 14ms/step\n",
      "1/1 [==============================] - 0s 14ms/step\n",
      "1/1 [==============================] - 0s 14ms/step\n",
      "1/1 [==============================] - 0s 13ms/step\n",
      "1/1 [==============================] - 0s 13ms/step\n",
      "1/1 [==============================] - 0s 14ms/step\n",
      "1/1 [==============================] - 0s 14ms/step\n",
      "1/1 [==============================] - 0s 14ms/step\n",
      "1/1 [==============================] - 0s 13ms/step\n",
      "1/1 [==============================] - 0s 15ms/step\n",
      "1/1 [==============================] - 0s 13ms/step\n",
      "1/1 [==============================] - 0s 13ms/step\n",
      "1/1 [==============================] - 0s 12ms/step\n",
      "1/1 [==============================] - 0s 12ms/step\n",
      "1/1 [==============================] - 0s 13ms/step\n",
      "1/1 [==============================] - 0s 13ms/step\n",
      "1/1 [==============================] - 0s 13ms/step\n",
      "1/1 [==============================] - 0s 13ms/step\n",
      "1/1 [==============================] - 0s 13ms/step\n",
      "1/1 [==============================] - 0s 13ms/step\n",
      "1/1 [==============================] - 0s 13ms/step\n",
      "1/1 [==============================] - 0s 14ms/step\n",
      "1/1 [==============================] - 0s 12ms/step\n",
      "1/1 [==============================] - 0s 14ms/step\n"
     ]
    }
   ],
   "source": [
    "# Real Time Face Detection\n",
    "cap = cv2.VideoCapture(0)  # Capture video\n",
    "while cap.isOpened():\n",
    "    _ , frame = cap.read()\n",
    "    frame = frame[50:500, 50:500,:]  # Resize it to 450 x 450\n",
    "    \n",
    "    rgb = cv2.cvtColor(frame, cv2.COLOR_BGR2RGB)\n",
    "    resized = tf.image.resize(rgb, (120, 120))\n",
    "    \n",
    "    yhat = facetracker.predict(np.expand_dims(resized/255, 0))  # Pass resized image to predict method\n",
    "    \n",
    "    # Rendering\n",
    "    sample_coords = yhat[1][0]\n",
    "    \n",
    "    if yhat[0] > 0.5:\n",
    "        # Controls the main rectangle\n",
    "        cv2.rectangle(frame,\n",
    "                      tuple(np.multiply(sample_coords[:2], [450,450]).astype(int)),\n",
    "                      tuple(np.multiply(sample_coords[2:], [450,450]).astype(int)),\n",
    "                              (255,0,0), 2)\n",
    "        \n",
    "        # Controls the label rectangle\n",
    "        cv2.rectangle(frame,\n",
    "                      tuple(np.add(np.multiply(sample_coords[:2], [450,450]).astype(int), \n",
    "                                   [0,-30])),\n",
    "                      tuple(np.add(np.multiply(sample_coords[:2], [450,450]).astype(int), \n",
    "                                   [80,0])), \n",
    "                          (255,0,0), -1)\n",
    "        \n",
    "        # Controls the text rendered\n",
    "        cv2.putText(frame, 'face', tuple(np.add(np.multiply(sample_coords[:2], [450,450]).astype(int),\n",
    "                                                [0,-5])),\n",
    "                    cv2.FONT_HERSHEY_SIMPLEX, 1, (255,255,255), 2, cv2.LINE_AA)\n",
    "                      \n",
    "    cv2.imshow('FaceTrack', frame)\n",
    "    \n",
    "    if cv2.waitKey(1) & 0xFF == ord('q'):\n",
    "        break\n",
    "\n",
    "cap.release()\n",
    "cv2.destroyAllWindows()"
   ]
  },
  {
   "cell_type": "code",
   "execution_count": null,
   "id": "a1f29716-b0e9-4738-a684-1fa0fc0cd569",
   "metadata": {},
   "outputs": [],
   "source": []
  }
 ],
 "metadata": {
  "kernelspec": {
   "display_name": "Python 3 (ipykernel)",
   "language": "python",
   "name": "python3"
  },
  "language_info": {
   "codemirror_mode": {
    "name": "ipython",
    "version": 3
   },
   "file_extension": ".py",
   "mimetype": "text/x-python",
   "name": "python",
   "nbconvert_exporter": "python",
   "pygments_lexer": "ipython3",
   "version": "3.9.13"
  }
 },
 "nbformat": 4,
 "nbformat_minor": 5
}
